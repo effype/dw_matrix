{
  "nbformat": 4,
  "nbformat_minor": 0,
  "metadata": {
    "colab": {
      "name": "day5.ipynb",
      "provenance": [],
      "collapsed_sections": []
    },
    "kernelspec": {
      "name": "python3",
      "display_name": "Python 3"
    },
    "widgets": {
      "application/vnd.jupyter.widget-state+json": {
        "f03b26fbc8c645b888b21dab5fdb2c86": {
          "model_module": "@jupyter-widgets/controls",
          "model_name": "HBoxModel",
          "state": {
            "_view_name": "HBoxView",
            "_dom_classes": [],
            "_model_name": "HBoxModel",
            "_view_module": "@jupyter-widgets/controls",
            "_model_module_version": "1.5.0",
            "_view_count": null,
            "_view_module_version": "1.5.0",
            "box_style": "",
            "layout": "IPY_MODEL_1257e25d7d7f476bb3e6c77b37961a3b",
            "_model_module": "@jupyter-widgets/controls",
            "children": [
              "IPY_MODEL_2de3e739c8104d87b936d99bc2c3a381",
              "IPY_MODEL_d58a8bc2ec3440a28163bfa991ed53f7"
            ]
          }
        },
        "1257e25d7d7f476bb3e6c77b37961a3b": {
          "model_module": "@jupyter-widgets/base",
          "model_name": "LayoutModel",
          "state": {
            "_view_name": "LayoutView",
            "grid_template_rows": null,
            "right": null,
            "justify_content": null,
            "_view_module": "@jupyter-widgets/base",
            "overflow": null,
            "_model_module_version": "1.2.0",
            "_view_count": null,
            "flex_flow": null,
            "width": null,
            "min_width": null,
            "border": null,
            "align_items": null,
            "bottom": null,
            "_model_module": "@jupyter-widgets/base",
            "top": null,
            "grid_column": null,
            "overflow_y": null,
            "overflow_x": null,
            "grid_auto_flow": null,
            "grid_area": null,
            "grid_template_columns": null,
            "flex": null,
            "_model_name": "LayoutModel",
            "justify_items": null,
            "grid_row": null,
            "max_height": null,
            "align_content": null,
            "visibility": null,
            "align_self": null,
            "height": null,
            "min_height": null,
            "padding": null,
            "grid_auto_rows": null,
            "grid_gap": null,
            "max_width": null,
            "order": null,
            "_view_module_version": "1.2.0",
            "grid_template_areas": null,
            "object_position": null,
            "object_fit": null,
            "grid_auto_columns": null,
            "margin": null,
            "display": null,
            "left": null
          }
        },
        "2de3e739c8104d87b936d99bc2c3a381": {
          "model_module": "@jupyter-widgets/controls",
          "model_name": "IntProgressModel",
          "state": {
            "_view_name": "ProgressView",
            "style": "IPY_MODEL_d7dc7f34fd624a91a645dcbfa678bd7f",
            "_dom_classes": [],
            "description": "",
            "_model_name": "IntProgressModel",
            "bar_style": "success",
            "max": 476,
            "_view_module": "@jupyter-widgets/controls",
            "_model_module_version": "1.5.0",
            "value": 476,
            "_view_count": null,
            "_view_module_version": "1.5.0",
            "orientation": "horizontal",
            "min": 0,
            "description_tooltip": null,
            "_model_module": "@jupyter-widgets/controls",
            "layout": "IPY_MODEL_1fd73fde7d9b4728926dc2237c767d3e"
          }
        },
        "d58a8bc2ec3440a28163bfa991ed53f7": {
          "model_module": "@jupyter-widgets/controls",
          "model_name": "HTMLModel",
          "state": {
            "_view_name": "HTMLView",
            "style": "IPY_MODEL_23fbbc23f52d4d84908890ea23af6d77",
            "_dom_classes": [],
            "description": "",
            "_model_name": "HTMLModel",
            "placeholder": "​",
            "_view_module": "@jupyter-widgets/controls",
            "_model_module_version": "1.5.0",
            "value": "100% 476/476 [00:03&lt;00:00, 122.30it/s]",
            "_view_count": null,
            "_view_module_version": "1.5.0",
            "description_tooltip": null,
            "_model_module": "@jupyter-widgets/controls",
            "layout": "IPY_MODEL_bf11e4765cf2437986e1d60a330df877"
          }
        },
        "d7dc7f34fd624a91a645dcbfa678bd7f": {
          "model_module": "@jupyter-widgets/controls",
          "model_name": "ProgressStyleModel",
          "state": {
            "_view_name": "StyleView",
            "_model_name": "ProgressStyleModel",
            "description_width": "",
            "_view_module": "@jupyter-widgets/base",
            "_model_module_version": "1.5.0",
            "_view_count": null,
            "_view_module_version": "1.2.0",
            "bar_color": null,
            "_model_module": "@jupyter-widgets/controls"
          }
        },
        "1fd73fde7d9b4728926dc2237c767d3e": {
          "model_module": "@jupyter-widgets/base",
          "model_name": "LayoutModel",
          "state": {
            "_view_name": "LayoutView",
            "grid_template_rows": null,
            "right": null,
            "justify_content": null,
            "_view_module": "@jupyter-widgets/base",
            "overflow": null,
            "_model_module_version": "1.2.0",
            "_view_count": null,
            "flex_flow": null,
            "width": null,
            "min_width": null,
            "border": null,
            "align_items": null,
            "bottom": null,
            "_model_module": "@jupyter-widgets/base",
            "top": null,
            "grid_column": null,
            "overflow_y": null,
            "overflow_x": null,
            "grid_auto_flow": null,
            "grid_area": null,
            "grid_template_columns": null,
            "flex": null,
            "_model_name": "LayoutModel",
            "justify_items": null,
            "grid_row": null,
            "max_height": null,
            "align_content": null,
            "visibility": null,
            "align_self": null,
            "height": null,
            "min_height": null,
            "padding": null,
            "grid_auto_rows": null,
            "grid_gap": null,
            "max_width": null,
            "order": null,
            "_view_module_version": "1.2.0",
            "grid_template_areas": null,
            "object_position": null,
            "object_fit": null,
            "grid_auto_columns": null,
            "margin": null,
            "display": null,
            "left": null
          }
        },
        "23fbbc23f52d4d84908890ea23af6d77": {
          "model_module": "@jupyter-widgets/controls",
          "model_name": "DescriptionStyleModel",
          "state": {
            "_view_name": "StyleView",
            "_model_name": "DescriptionStyleModel",
            "description_width": "",
            "_view_module": "@jupyter-widgets/base",
            "_model_module_version": "1.5.0",
            "_view_count": null,
            "_view_module_version": "1.2.0",
            "_model_module": "@jupyter-widgets/controls"
          }
        },
        "bf11e4765cf2437986e1d60a330df877": {
          "model_module": "@jupyter-widgets/base",
          "model_name": "LayoutModel",
          "state": {
            "_view_name": "LayoutView",
            "grid_template_rows": null,
            "right": null,
            "justify_content": null,
            "_view_module": "@jupyter-widgets/base",
            "overflow": null,
            "_model_module_version": "1.2.0",
            "_view_count": null,
            "flex_flow": null,
            "width": null,
            "min_width": null,
            "border": null,
            "align_items": null,
            "bottom": null,
            "_model_module": "@jupyter-widgets/base",
            "top": null,
            "grid_column": null,
            "overflow_y": null,
            "overflow_x": null,
            "grid_auto_flow": null,
            "grid_area": null,
            "grid_template_columns": null,
            "flex": null,
            "_model_name": "LayoutModel",
            "justify_items": null,
            "grid_row": null,
            "max_height": null,
            "align_content": null,
            "visibility": null,
            "align_self": null,
            "height": null,
            "min_height": null,
            "padding": null,
            "grid_auto_rows": null,
            "grid_gap": null,
            "max_width": null,
            "order": null,
            "_view_module_version": "1.2.0",
            "grid_template_areas": null,
            "object_position": null,
            "object_fit": null,
            "grid_auto_columns": null,
            "margin": null,
            "display": null,
            "left": null
          }
        }
      }
    }
  },
  "cells": [
    {
      "cell_type": "code",
      "metadata": {
        "id": "laZZIzkYRY8R",
        "colab_type": "code",
        "outputId": "4c2c78e7-f2ac-4327-be98-fd5ef1de5294",
        "colab": {
          "base_uri": "https://localhost:8080/",
          "height": 222
        }
      },
      "source": [
        "pip install eli5"
      ],
      "execution_count": 30,
      "outputs": [
        {
          "output_type": "stream",
          "text": [
            "Requirement already satisfied: eli5 in /usr/local/lib/python3.6/dist-packages (0.10.1)\n",
            "Requirement already satisfied: attrs>16.0.0 in /usr/local/lib/python3.6/dist-packages (from eli5) (19.3.0)\n",
            "Requirement already satisfied: scipy in /usr/local/lib/python3.6/dist-packages (from eli5) (1.4.1)\n",
            "Requirement already satisfied: tabulate>=0.7.7 in /usr/local/lib/python3.6/dist-packages (from eli5) (0.8.6)\n",
            "Requirement already satisfied: scikit-learn>=0.18 in /usr/local/lib/python3.6/dist-packages (from eli5) (0.22.1)\n",
            "Requirement already satisfied: numpy>=1.9.0 in /usr/local/lib/python3.6/dist-packages (from eli5) (1.17.5)\n",
            "Requirement already satisfied: six in /usr/local/lib/python3.6/dist-packages (from eli5) (1.12.0)\n",
            "Requirement already satisfied: jinja2 in /usr/local/lib/python3.6/dist-packages (from eli5) (2.11.1)\n",
            "Requirement already satisfied: graphviz in /usr/local/lib/python3.6/dist-packages (from eli5) (0.10.1)\n",
            "Requirement already satisfied: joblib>=0.11 in /usr/local/lib/python3.6/dist-packages (from scikit-learn>=0.18->eli5) (0.14.1)\n",
            "Requirement already satisfied: MarkupSafe>=0.23 in /usr/local/lib/python3.6/dist-packages (from jinja2->eli5) (1.1.1)\n"
          ],
          "name": "stdout"
        }
      ]
    },
    {
      "cell_type": "code",
      "metadata": {
        "id": "8m100tmxS7tf",
        "colab_type": "code",
        "colab": {}
      },
      "source": [
        "import pandas as pd\n",
        "import numpy as np\n",
        "\n",
        "from sklearn.tree import DecisionTreeRegressor\n",
        "from sklearn.ensemble import RandomForestRegressor\n",
        "from sklearn.metrics import mean_absolute_error\n",
        "\n",
        "from sklearn.model_selection import cross_val_score\n",
        "\n",
        "import eli5\n",
        "from eli5.sklearn import PermutationImportance\n",
        "\n",
        "from ast import literal_eval\n",
        "from tqdm import tqdm_notebook"
      ],
      "execution_count": 0,
      "outputs": []
    },
    {
      "cell_type": "code",
      "metadata": {
        "id": "2y2b2UXsdx1N",
        "colab_type": "code",
        "colab": {
          "base_uri": "https://localhost:8080/",
          "height": 36
        },
        "outputId": "1ff08301-e614-4727-8711-8008c0328cb7"
      },
      "source": [
        "ls"
      ],
      "execution_count": 65,
      "outputs": [
        {
          "output_type": "stream",
          "text": [
            "mens_shoes.csv\n"
          ],
          "name": "stdout"
        }
      ]
    },
    {
      "cell_type": "code",
      "metadata": {
        "id": "rZBsuf9Tdz8g",
        "colab_type": "code",
        "colab": {}
      },
      "source": [
        "df = pd.read_csv('mens_shoes.csv', low_memory=False)"
      ],
      "execution_count": 0,
      "outputs": []
    },
    {
      "cell_type": "code",
      "metadata": {
        "id": "2T_pnEeGd7bp",
        "colab_type": "code",
        "colab": {}
      },
      "source": [
        "def run_model(feats, model = DecisionTreeRegressor(max_depth=5)):\n",
        "  X = df[feats].values\n",
        "  y = df['prices_amountmin'].values\n",
        "\n",
        "  scores = cross_val_score(model, X, y, scoring = 'neg_mean_absolute_error')\n",
        "  return np.mean(scores),  np.std(scores)"
      ],
      "execution_count": 0,
      "outputs": []
    },
    {
      "cell_type": "code",
      "metadata": {
        "id": "T9Z10HPNd9cO",
        "colab_type": "code",
        "colab": {
          "base_uri": "https://localhost:8080/",
          "height": 36
        },
        "outputId": "7677f2af-0ef4-4804-e36a-049f281f797a"
      },
      "source": [
        "df['brand_cat'] = df['brand'].map(lambda x: str(x).lower()).factorize()[0]\n",
        "run_model(['brand_cat'])"
      ],
      "execution_count": 68,
      "outputs": [
        {
          "output_type": "execute_result",
          "data": {
            "text/plain": [
              "(-58.133398968282776, 4.206122611474276)"
            ]
          },
          "metadata": {
            "tags": []
          },
          "execution_count": 68
        }
      ]
    },
    {
      "cell_type": "code",
      "metadata": {
        "id": "4Pvv4rDbeBOE",
        "colab_type": "code",
        "colab": {
          "base_uri": "https://localhost:8080/",
          "height": 36
        },
        "outputId": "7432e399-659d-48cb-9b25-8534fd150469"
      },
      "source": [
        "model = RandomForestRegressor(max_depth=5, n_estimators=100, random_state=0)\n",
        "run_model(['brand_cat'], model)"
      ],
      "execution_count": 69,
      "outputs": [
        {
          "output_type": "execute_result",
          "data": {
            "text/plain": [
              "(-57.31783843165656, 4.181246596160967)"
            ]
          },
          "metadata": {
            "tags": []
          },
          "execution_count": 69
        }
      ]
    },
    {
      "cell_type": "code",
      "metadata": {
        "id": "IiVkAvekeDGU",
        "colab_type": "code",
        "colab": {
          "base_uri": "https://localhost:8080/",
          "height": 149
        },
        "outputId": "b4c9a467-8dba-4943-ea33-94ced555f1d3"
      },
      "source": [
        "df.features.head().values"
      ],
      "execution_count": 70,
      "outputs": [
        {
          "output_type": "execute_result",
          "data": {
            "text/plain": [
              "array(['[{\"key\":\"Gender\",\"value\":[\"Men\"]},{\"key\":\"Shoe Size\",\"value\":[\"M\"]},{\"key\":\"Shoe Category\",\"value\":[\"Men\\'s Shoes\"]},{\"key\":\"Color\",\"value\":[\"Multicolor\"]},{\"key\":\"Manufacturer Part Number\",\"value\":[\"8190-W-NAVY-7.5\"]},{\"key\":\"Brand\",\"value\":[\"Josmo\"]}]',\n",
              "       '[{\"key\":\"Gender\",\"value\":[\"Men\"]},{\"key\":\"Shoe Size\",\"value\":[\"M\"]},{\"key\":\"Shoe Category\",\"value\":[\"Men\\'s Shoes\"]},{\"key\":\"Color\",\"value\":[\"Multicolor\"]},{\"key\":\"Manufacturer Part Number\",\"value\":[\"8190-W-NAVY-7.5\"]},{\"key\":\"Brand\",\"value\":[\"Josmo\"]}]',\n",
              "       '[{\"key\":\"Gender\",\"value\":[\"Men\"]},{\"key\":\"Color\",\"value\":[\"Black\"]},{\"key\":\"Shipping Weight (in pounds)\",\"value\":[\"0.45\"]},{\"key\":\"Condition\",\"value\":[\"New\"]},{\"key\":\"Brand\",\"value\":[\"SERVUS BY HONEYWELL\"]},{\"key\":\"manufacturer_part_number\",\"value\":[\"ZSR101BLMLG\"]}]',\n",
              "       '[{\"key\":\"Gender\",\"value\":[\"Men\"]},{\"key\":\"Color\",\"value\":[\"Black\"]},{\"key\":\"Shipping Weight (in pounds)\",\"value\":[\"0.45\"]},{\"key\":\"Condition\",\"value\":[\"New\"]},{\"key\":\"Brand\",\"value\":[\"SERVUS BY HONEYWELL\"]},{\"key\":\"manufacturer_part_number\",\"value\":[\"ZSR101BLMLG\"]}]',\n",
              "       '[{\"key\":\"Gender\",\"value\":[\"Men\"]},{\"key\":\"Color\",\"value\":[\"Black\"]},{\"key\":\"Shipping Weight (in pounds)\",\"value\":[\"0.45\"]},{\"key\":\"Condition\",\"value\":[\"New\"]},{\"key\":\"Brand\",\"value\":[\"SERVUS BY HONEYWELL\"]},{\"key\":\"manufacturer_part_number\",\"value\":[\"ZSR101BLMLG\"]}]'],\n",
              "      dtype=object)"
            ]
          },
          "metadata": {
            "tags": []
          },
          "execution_count": 70
        }
      ]
    },
    {
      "cell_type": "code",
      "metadata": {
        "id": "qpYdvzIUeG8n",
        "colab_type": "code",
        "colab": {
          "base_uri": "https://localhost:8080/",
          "height": 129
        },
        "outputId": "fb70cfeb-6b03-4864-8962-70324a23db33"
      },
      "source": [
        "str_dict = '[{\"key\":\"Gender\",\"value\":[\"Men\"]},{\"key\":\"Shoe Size\",\"value\":[\"M\"]},{\"key\":\"Shoe Category\",\"value\":[\"Men\\'s Shoes\"]},{\"key\":\"Color\",\"value\":[\"Multicolor\"]},{\"key\":\"Manufacturer Part Number\",\"value\":[\"8190-W-NAVY-7.5\"]},{\"key\":\"Brand\",\"value\":[\"Josmo\"]}]'\n",
        "\n",
        "literal_eval(str_dict)"
      ],
      "execution_count": 71,
      "outputs": [
        {
          "output_type": "execute_result",
          "data": {
            "text/plain": [
              "[{'key': 'Gender', 'value': ['Men']},\n",
              " {'key': 'Shoe Size', 'value': ['M']},\n",
              " {'key': 'Shoe Category', 'value': [\"Men's Shoes\"]},\n",
              " {'key': 'Color', 'value': ['Multicolor']},\n",
              " {'key': 'Manufacturer Part Number', 'value': ['8190-W-NAVY-7.5']},\n",
              " {'key': 'Brand', 'value': ['Josmo']}]"
            ]
          },
          "metadata": {
            "tags": []
          },
          "execution_count": 71
        }
      ]
    },
    {
      "cell_type": "code",
      "metadata": {
        "id": "dpQlF9y_eJKe",
        "colab_type": "code",
        "colab": {}
      },
      "source": [
        "def parse_features(x):\n",
        "  output_dict = {}\n",
        "  if str(x) == 'nan': return output_dict\n",
        "  features = literal_eval(x.replace('\\\\\"', '\"'))\n",
        "  for item in features:\n",
        "    key = item['key'].lower().strip()\n",
        "    value = item['value'][0].lower().strip()\n",
        "\n",
        "    output_dict[key] = value\n",
        "\n",
        "  return output_dict\n",
        "\n",
        "df['features_parsed'] = df['features'].map(parse_features)"
      ],
      "execution_count": 0,
      "outputs": []
    },
    {
      "cell_type": "code",
      "metadata": {
        "id": "Zq9B2OgbeLWS",
        "colab_type": "code",
        "colab": {
          "base_uri": "https://localhost:8080/",
          "height": 36
        },
        "outputId": "d50154b1-83c2-4d92-dda9-c3fc161b9bc1"
      },
      "source": [
        "keys = set()\n",
        "\n",
        "df['features_parsed'].map(lambda x: keys.update(x.keys()))\n",
        "len(keys)"
      ],
      "execution_count": 73,
      "outputs": [
        {
          "output_type": "execute_result",
          "data": {
            "text/plain": [
              "476"
            ]
          },
          "metadata": {
            "tags": []
          },
          "execution_count": 73
        }
      ]
    },
    {
      "cell_type": "code",
      "metadata": {
        "id": "IS6COR0MeNXY",
        "colab_type": "code",
        "colab": {
          "base_uri": "https://localhost:8080/",
          "height": 68,
          "referenced_widgets": [
            "f03b26fbc8c645b888b21dab5fdb2c86",
            "1257e25d7d7f476bb3e6c77b37961a3b",
            "2de3e739c8104d87b936d99bc2c3a381",
            "d58a8bc2ec3440a28163bfa991ed53f7",
            "d7dc7f34fd624a91a645dcbfa678bd7f",
            "1fd73fde7d9b4728926dc2237c767d3e",
            "23fbbc23f52d4d84908890ea23af6d77",
            "bf11e4765cf2437986e1d60a330df877"
          ]
        },
        "outputId": "47f17adb-6305-4165-a9a3-762b9e8b195d"
      },
      "source": [
        "def get_name_feat(key):\n",
        "  return 'feat_' + key \n",
        "\n",
        "for key in tqdm_notebook(keys):\n",
        "  df[get_name_feat(key)] = df.features_parsed.map(lambda feats: feats[key] if key in feats else np.nan)"
      ],
      "execution_count": 74,
      "outputs": [
        {
          "output_type": "display_data",
          "data": {
            "application/vnd.jupyter.widget-view+json": {
              "model_id": "f03b26fbc8c645b888b21dab5fdb2c86",
              "version_minor": 0,
              "version_major": 2
            },
            "text/plain": [
              "HBox(children=(IntProgress(value=0, max=476), HTML(value='')))"
            ]
          },
          "metadata": {
            "tags": []
          }
        },
        {
          "output_type": "stream",
          "text": [
            "\n"
          ],
          "name": "stdout"
        }
      ]
    },
    {
      "cell_type": "code",
      "metadata": {
        "id": "1Y2KL1wgePWM",
        "colab_type": "code",
        "colab": {
          "base_uri": "https://localhost:8080/",
          "height": 36
        },
        "outputId": "b514ab0b-88c4-4b25-a67e-689472b9289d"
      },
      "source": [
        "df[df['feat_athlete'].isnull()].shape"
      ],
      "execution_count": 75,
      "outputs": [
        {
          "output_type": "execute_result",
          "data": {
            "text/plain": [
              "(18272, 526)"
            ]
          },
          "metadata": {
            "tags": []
          },
          "execution_count": 75
        }
      ]
    },
    {
      "cell_type": "code",
      "metadata": {
        "id": "5vilfC3SeSnx",
        "colab_type": "code",
        "colab": {}
      },
      "source": [
        "keys_stat = {}\n",
        "for key in keys:\n",
        "  keys_stat[key] = df[False == df[get_name_feat(key)].isnull()].shape[0] / df.shape[0] * 100"
      ],
      "execution_count": 0,
      "outputs": []
    },
    {
      "cell_type": "code",
      "metadata": {
        "id": "nOFtSvsfeUkB",
        "colab_type": "code",
        "colab": {
          "base_uri": "https://localhost:8080/",
          "height": 110
        },
        "outputId": "f34f5ea1-8965-4c31-a486-fd6f809665eb"
      },
      "source": [
        "{k:v for k, v in keys_stat.items() if v > 30}"
      ],
      "execution_count": 77,
      "outputs": [
        {
          "output_type": "execute_result",
          "data": {
            "text/plain": [
              "{'brand': 48.62691466083151,\n",
              " 'color': 47.784463894967175,\n",
              " 'gender': 50.17505470459519,\n",
              " 'manufacturer part number': 36.252735229759296,\n",
              " 'material': 34.9070021881838}"
            ]
          },
          "metadata": {
            "tags": []
          },
          "execution_count": 77
        }
      ]
    },
    {
      "cell_type": "code",
      "metadata": {
        "id": "cuo7FAymeWs3",
        "colab_type": "code",
        "colab": {}
      },
      "source": [
        "df['feat_brand_cat'] = df['feat_brand'].map(lambda x: str(x).lower()).factorize()[0]\n",
        "df['feat_color_cat'] = df['feat_color'].map(lambda x: str(x).lower()).factorize()[0]\n",
        "df['feat_gender_cat'] = df['feat_gender'].map(lambda x: str(x).lower()).factorize()[0]\n",
        "df['feat_manufacturer part number_cat'] = df['feat_manufacturer part number'].map(lambda x: str(x).lower()).factorize()[0]\n",
        "df['feat_material_cat'] = df['feat_material'].map(lambda x: str(x).lower()).factorize()[0]\n",
        "df['feat_sport_cat'] = df['feat_sport'].map(lambda x: str(x).lower()).factorize()[0]\n",
        "df['feat_style_cat'] = df['feat_style'].map(lambda x: str(x).lower()).factorize()[0]\n",
        "\n",
        "for key in keys:\n",
        "  df[get_name_feat(key) + '_cat'] = df[get_name_feat(key)].map(lambda x: str(x).lower()).factorize()[0]"
      ],
      "execution_count": 0,
      "outputs": []
    },
    {
      "cell_type": "code",
      "metadata": {
        "id": "NnJ-9CQAeZN-",
        "colab_type": "code",
        "colab": {
          "base_uri": "https://localhost:8080/",
          "height": 206
        },
        "outputId": "cb3c38dc-5568-4009-c18a-175fce9b85e5"
      },
      "source": [
        "df['brand'] = df['brand'].map(lambda x: str(x).lower())\n",
        "df[df.brand != df.feat_brand][['brand', 'feat_brand']].head()"
      ],
      "execution_count": 79,
      "outputs": [
        {
          "output_type": "execute_result",
          "data": {
            "text/html": [
              "<div>\n",
              "<style scoped>\n",
              "    .dataframe tbody tr th:only-of-type {\n",
              "        vertical-align: middle;\n",
              "    }\n",
              "\n",
              "    .dataframe tbody tr th {\n",
              "        vertical-align: top;\n",
              "    }\n",
              "\n",
              "    .dataframe thead th {\n",
              "        text-align: right;\n",
              "    }\n",
              "</style>\n",
              "<table border=\"1\" class=\"dataframe\">\n",
              "  <thead>\n",
              "    <tr style=\"text-align: right;\">\n",
              "      <th></th>\n",
              "      <th>brand</th>\n",
              "      <th>feat_brand</th>\n",
              "    </tr>\n",
              "  </thead>\n",
              "  <tbody>\n",
              "    <tr>\n",
              "      <th>21</th>\n",
              "      <td>rubies</td>\n",
              "      <td>generic</td>\n",
              "    </tr>\n",
              "    <tr>\n",
              "      <th>22</th>\n",
              "      <td>rubies</td>\n",
              "      <td>generic</td>\n",
              "    </tr>\n",
              "    <tr>\n",
              "      <th>23</th>\n",
              "      <td>rubies</td>\n",
              "      <td>generic</td>\n",
              "    </tr>\n",
              "    <tr>\n",
              "      <th>24</th>\n",
              "      <td>unbranded</td>\n",
              "      <td>NaN</td>\n",
              "    </tr>\n",
              "    <tr>\n",
              "      <th>31</th>\n",
              "      <td>american fighter</td>\n",
              "      <td>NaN</td>\n",
              "    </tr>\n",
              "  </tbody>\n",
              "</table>\n",
              "</div>"
            ],
            "text/plain": [
              "               brand feat_brand\n",
              "21            rubies    generic\n",
              "22            rubies    generic\n",
              "23            rubies    generic\n",
              "24         unbranded        NaN\n",
              "31  american fighter        NaN"
            ]
          },
          "metadata": {
            "tags": []
          },
          "execution_count": 79
        }
      ]
    },
    {
      "cell_type": "code",
      "metadata": {
        "id": "XW4eASpgeceb",
        "colab_type": "code",
        "colab": {
          "base_uri": "https://localhost:8080/",
          "height": 36
        },
        "outputId": "26a26423-614f-4ab8-9cb9-d17f7d48c695"
      },
      "source": [
        "df[df.brand != df.feat_brand].shape"
      ],
      "execution_count": 80,
      "outputs": [
        {
          "output_type": "execute_result",
          "data": {
            "text/plain": [
              "(9434, 1002)"
            ]
          },
          "metadata": {
            "tags": []
          },
          "execution_count": 80
        }
      ]
    },
    {
      "cell_type": "code",
      "metadata": {
        "id": "sUnHmeNueebp",
        "colab_type": "code",
        "colab": {
          "base_uri": "https://localhost:8080/",
          "height": 36
        },
        "outputId": "13810368-e9dc-441a-b3c1-57ee2a050a4b"
      },
      "source": [
        "model = RandomForestRegressor(max_depth=5, n_estimators=100)\n",
        "run_model(['brand_cat'], model)"
      ],
      "execution_count": 81,
      "outputs": [
        {
          "output_type": "execute_result",
          "data": {
            "text/plain": [
              "(-57.29112951160262, 4.144792719888519)"
            ]
          },
          "metadata": {
            "tags": []
          },
          "execution_count": 81
        }
      ]
    },
    {
      "cell_type": "code",
      "metadata": {
        "id": "DPxfxwoEegAt",
        "colab_type": "code",
        "colab": {
          "base_uri": "https://localhost:8080/",
          "height": 1000
        },
        "outputId": "e6deaef8-5954-4d32-f9a1-128803130864"
      },
      "source": [
        "feats_cat = [x for x in df.columns if 'cat' in x]\n",
        "feats_cat"
      ],
      "execution_count": 82,
      "outputs": [
        {
          "output_type": "execute_result",
          "data": {
            "text/plain": [
              "['categories',\n",
              " 'brand_cat',\n",
              " 'feat_recommended location',\n",
              " 'feat_shoe category',\n",
              " 'feat_catalog',\n",
              " 'feat_certifications and listings',\n",
              " 'feat_location - city/state',\n",
              " 'feat_multi pack indicator',\n",
              " 'feat_fabrication',\n",
              " 'feat_clothing category',\n",
              " 'feat_location - country',\n",
              " 'feat_brand_cat',\n",
              " 'feat_color_cat',\n",
              " 'feat_gender_cat',\n",
              " 'feat_manufacturer part number_cat',\n",
              " 'feat_material_cat',\n",
              " 'feat_sport_cat',\n",
              " 'feat_style_cat',\n",
              " 'feat_clasp type_cat',\n",
              " 'feat_battery voltage_cat',\n",
              " 'feat_frame material:_cat',\n",
              " 'feat_ring size_cat',\n",
              " 'feat_hammer loop_cat',\n",
              " 'feat_polarized?_cat',\n",
              " 'feat_display_cat',\n",
              " 'feat_hands_cat',\n",
              " 'feat_free item_cat',\n",
              " 'feat_package_cat',\n",
              " 'feat_removable liner_cat',\n",
              " 'feat_international shipping_cat',\n",
              " 'feat_fits styles_cat',\n",
              " 'feat_authenticity_cat',\n",
              " 'feat_vehicle type_cat',\n",
              " 'feat_fit_cat',\n",
              " 'feat_recommended location_cat',\n",
              " 'feat_bag size range_cat',\n",
              " 'feat_materials_cat',\n",
              " 'feat_temple size:_cat',\n",
              " 'feat_very popular bag now a days_cat',\n",
              " 'feat_licensed_cat',\n",
              " 'feat_eye protection type_cat',\n",
              " 'feat_sleeve length_cat',\n",
              " 'feat_disclosures_cat',\n",
              " 'feat_shoe width_cat',\n",
              " 'feat_crystal_cat',\n",
              " 'feat_flame resistant_cat',\n",
              " 'feat_weight_cat',\n",
              " 'feat_picture_cat',\n",
              " 'feat_auto_cat',\n",
              " 'feat_spikes type_cat',\n",
              " 'feat_sku number_cat',\n",
              " 'feat_closure style_cat',\n",
              " 'feat_year made_cat',\n",
              " 'feat_parts_cat',\n",
              " 'feat_number of pockets_cat',\n",
              " 'feat_name_cat',\n",
              " 'feat_global composite sports type_cat',\n",
              " 'feat_style:_cat',\n",
              " 'feat_protection_cat',\n",
              " 'feat_fits over eyeglasses_cat',\n",
              " 'feat_special features_cat',\n",
              " 'feat_conflict_cat',\n",
              " 'feat_item style_cat',\n",
              " 'feat_gps_cat',\n",
              " 'feat_has expiration_cat',\n",
              " 'feat_purpose_cat',\n",
              " 'feat_type_cat',\n",
              " 'feat_lens technology_cat',\n",
              " 'feat_water resistant_cat',\n",
              " 'feat_reinforced knee_cat',\n",
              " 'feat_resizable_cat',\n",
              " 'feat_frame shape_cat',\n",
              " 'feat_occasion_cat',\n",
              " 'feat_leg opening:_cat',\n",
              " 'feat_protects against_cat',\n",
              " 'feat_age gender group_cat',\n",
              " 'feat_labor_cat',\n",
              " 'feat_item character_cat',\n",
              " 'feat_lens socket width_cat',\n",
              " 'feat_safety feature_cat',\n",
              " 'feat_fastener type_cat',\n",
              " 'feat_item weight_cat',\n",
              " 'feat_amazonbestsellersrank_cat',\n",
              " 'feat_box_cat',\n",
              " 'feat_wheel type_cat',\n",
              " 'feat_age start_cat',\n",
              " 'feat_target audience_cat',\n",
              " 'feat_age group_cat',\n",
              " 'feat_airport friendly_cat',\n",
              " 'feat_general warranty_cat',\n",
              " 'feat_condition_cat',\n",
              " 'feat_number of pieces_cat',\n",
              " 'feat_length_cat',\n",
              " 'feat_light transmission (vlt)_cat',\n",
              " 'feat_retail price_cat',\n",
              " 'feat_shoe height_cat',\n",
              " 'feat_jewelry setting_cat',\n",
              " 'feat_sleeve style_cat',\n",
              " 'feat_is waterproof_cat',\n",
              " 'feat_color mapping_cat',\n",
              " 'feat_light weight_cat',\n",
              " 'feat_weather-resistant_cat',\n",
              " 'feat_watch shape_cat',\n",
              " 'feat_pronation_cat',\n",
              " 'feat_instrument_cat',\n",
              " 'feat_contains batteries_cat',\n",
              " 'feat_watch power source_cat',\n",
              " 'feat_100% adidas authentic_cat',\n",
              " 'feat_shoe category_cat',\n",
              " 'feat_outer material_cat',\n",
              " 'feat_construction_cat',\n",
              " 'feat_bed size_cat',\n",
              " 'feat_manufacturer sku_cat',\n",
              " 'feat_thick, warm, cozy_cat',\n",
              " 'feat_material type_cat',\n",
              " 'feat_item type_cat',\n",
              " 'feat_country of origin - components_cat',\n",
              " 'feat_main colour_cat',\n",
              " 'feat_stylenumber_cat',\n",
              " 'feat_chest_cat',\n",
              " 'feat_is water-resistant_cat',\n",
              " 'feat_pattern_cat',\n",
              " 'feat_fits models_cat',\n",
              " 'feat_leather grade_cat',\n",
              " 'feat_part type_cat',\n",
              " 'feat_transactionid_cat',\n",
              " 'feat_boxed-product dimensions_cat',\n",
              " 'feat_eye size:_cat',\n",
              " 'feat_measurements:_cat',\n",
              " 'feat_necklace type_cat',\n",
              " 'feat_display technology_cat',\n",
              " 'feat_diameter_cat',\n",
              " 'feat_machine washable_cat',\n",
              " 'feat_is energy star-certified_cat',\n",
              " 'feat_chest size_cat',\n",
              " 'feat_inv_cat',\n",
              " 'feat_navy blue_cat',\n",
              " 'feat_pattern or design_cat',\n",
              " 'feat_fabric type_cat',\n",
              " 'feat_lens type_cat',\n",
              " 'feat_nike product #_cat',\n",
              " 'feat_compatible devices_cat',\n",
              " 'feat_charge time (minutes)_cat',\n",
              " 'feat_season_cat',\n",
              " 'feat_golf shoe type_cat',\n",
              " 'feat_casing_cat',\n",
              " 'feat_clothing type_cat',\n",
              " 'feat_dial material_cat',\n",
              " 'feat_removable hood_cat',\n",
              " 'feat_suitable for_cat',\n",
              " 'feat_heart rate monitor_cat',\n",
              " 'feat_fuel type_cat',\n",
              " 'feat_sub type_cat',\n",
              " 'feat_szie_cat',\n",
              " 'feat_country//region of manufacture_cat',\n",
              " 'feat_made in_cat',\n",
              " 'feat_black_cat',\n",
              " 'feat_sizearm_cat',\n",
              " 'feat_country of origin - assembly_cat',\n",
              " 'feat_fits brands_cat',\n",
              " 'feat_shade_cat',\n",
              " 'feat_shoe size_cat',\n",
              " 'feat_is polarized_cat',\n",
              " 'feat_number of wheels_cat',\n",
              " 'feat_lining material_cat',\n",
              " 'feat_is orthopedic_cat',\n",
              " 'feat_series name_cat',\n",
              " 'feat_catalog_cat',\n",
              " 'feat_fits most screen size_cat',\n",
              " 'feat_combined shipping_cat',\n",
              " 'feat_style code_cat',\n",
              " 'feat_waist size_cat',\n",
              " 'feat_assembled product weight_cat',\n",
              " 'feat_ring style_cat',\n",
              " 'feat_used with equipment type_cat',\n",
              " 'feat_fits model_cat',\n",
              " 'feat_product #_cat',\n",
              " 'feat_type of sole_cat',\n",
              " 'feat_finish_cat',\n",
              " 'feat_expandable_cat',\n",
              " 'feat_mirrored_cat',\n",
              " 'feat_has adaptive lenses_cat',\n",
              " 'feat_capacity_cat',\n",
              " 'feat_shoe closure_cat',\n",
              " 'feat_contains cubic zirconia_cat',\n",
              " 'feat_type 2_cat',\n",
              " 'feat_waist_cat',\n",
              " 'feat_band type_cat',\n",
              " 'feat_to fit_cat',\n",
              " 'feat_has paper wood_cat',\n",
              " 'feat_year_cat',\n",
              " 'feat_tactical_cat',\n",
              " 'feat_power type_cat',\n",
              " 'feat_garment care_cat',\n",
              " 'feat_audience_cat',\n",
              " 'feat_case thickness_cat',\n",
              " 'feat_hooded_cat',\n",
              " 'feat_country of manufacture_cat',\n",
              " 'feat_athlete_cat',\n",
              " 'feat_country of origin_cat',\n",
              " 'feat_what includes_cat',\n",
              " 'feat_guaranteed authentic_cat',\n",
              " 'feat_lens tint_cat',\n",
              " 'feat_video game platform_cat',\n",
              " 'feat_number of batteries included_cat',\n",
              " 'feat_hat style_cat',\n",
              " 'feat_autographed_cat',\n",
              " 'feat_shoe fastening type_cat',\n",
              " 'feat_sole_cat',\n",
              " 'feat_interior pockets_cat',\n",
              " 'feat_ul safety listing_cat',\n",
              " 'feat_country of origin assembly:_cat',\n",
              " 'feat_sub style_cat',\n",
              " 'feat_style name_cat',\n",
              " 'feat_designed for_cat',\n",
              " 'feat_watch band material_cat',\n",
              " 'feat_clothing product type_cat',\n",
              " 'feat_designer_cat',\n",
              " 'feat_jacket length_cat',\n",
              " 'feat_weather resistant_cat',\n",
              " 'feat_bridge size:_cat',\n",
              " 'feat_date first available at amazon.ca_cat',\n",
              " 'feat_assembled in country of origin_cat',\n",
              " 'feat_sock size_cat',\n",
              " 'feat_net weight_cat',\n",
              " 'feat_safety features_cat',\n",
              " 'feat_lens width_cat',\n",
              " 'feat_primary shelf id_cat',\n",
              " 'feat_theme_cat',\n",
              " 'feat_manufacturer_cat',\n",
              " 'feat_feature_cat',\n",
              " 'feat_issued/ not-issued_cat',\n",
              " 'feat_band manufacturer_cat',\n",
              " 'feat_msrp_cat',\n",
              " 'feat_fine or fashion_cat',\n",
              " 'feat_comfort technology_cat',\n",
              " 'feat_lined_cat',\n",
              " 'feat_charger included_cat',\n",
              " 'feat_wind resistant_cat',\n",
              " 'feat_recommended use_cat',\n",
              " 'feat_lens material_cat',\n",
              " 'feat_bridge/temple size:_cat',\n",
              " 'feat_work shoes_cat',\n",
              " 'feat_motion control_cat',\n",
              " 'feat_age end_cat',\n",
              " 'feat_frame material_cat',\n",
              " 'feat_band color_cat',\n",
              " 'feat_power reserve_cat',\n",
              " 'feat_wheeled_cat',\n",
              " 'feat_����������������_cat',\n",
              " 'feat_frame depth_cat',\n",
              " 'feat_watch case shape_cat',\n",
              " 'feat_kids backpacks_cat',\n",
              " 'feat_case diameter_cat',\n",
              " 'feat_sku_cat',\n",
              " 'feat_fit:_cat',\n",
              " 'feat_hairstyle_cat',\n",
              " 'feat_item package quantity_cat',\n",
              " 'feat_hunting_cat',\n",
              " 'feat_rise_cat',\n",
              " 'feat_walmart no._cat',\n",
              " 'feat_size_cat',\n",
              " 'feat_sports team_cat',\n",
              " 'feat_dial markers_cat',\n",
              " 'feat_case material_cat',\n",
              " 'feat_arm_cat',\n",
              " 'feat_compass_cat',\n",
              " 'feat_certifications and listings_cat',\n",
              " 'feat_alarm_cat',\n",
              " 'feat_product type_cat',\n",
              " 'feat_animal type_cat',\n",
              " 'feat_shipping weight (in pounds)_cat',\n",
              " 'feat_impact resistant_cat',\n",
              " 'feat_location - city/state_cat',\n",
              " 'feat_uv rating_cat',\n",
              " 'feat_mechanic_cat',\n",
              " 'feat_polarized lenses_cat',\n",
              " 'feat_lens_cat',\n",
              " 'feat_country/ organization_cat',\n",
              " 'feat_diamond color_cat',\n",
              " 'feat_frame style_cat',\n",
              " 'feat_wash_cat',\n",
              " 'feat_upper material_cat',\n",
              " 'feat_best sellers rank_cat',\n",
              " 'feat_insulated_cat',\n",
              " 'feat_nike id_cat',\n",
              " 'feat_lining_cat',\n",
              " 'feat_chain length_cat',\n",
              " 'feat_model no._cat',\n",
              " 'feat_profession_cat',\n",
              " 'feat_size/dimensions_cat',\n",
              " 'feat_productgroup_cat',\n",
              " 'feat_packageweight_cat',\n",
              " 'feat_domestic shipping_cat',\n",
              " 'feat_item spec attr - style (ebay)_cat',\n",
              " 'feat_country of origin components:_cat',\n",
              " 'feat_terrain_cat',\n",
              " 'feat_waterproof_cat',\n",
              " 'feat_chain included_cat',\n",
              " 'feat_inseam_cat',\n",
              " 'feat_gemstone type_cat',\n",
              " 'feat_cushioning_cat',\n",
              " 'feat_cleaning, care & maintenance_cat',\n",
              " 'feat_front_cat',\n",
              " 'feat_is recyclable_cat',\n",
              " 'feat_style #_cat',\n",
              " 'feat_sizebridge_cat',\n",
              " 'feat_is lined_cat',\n",
              " 'feat_case tone_cat',\n",
              " 'feat_eyewear frame style_cat',\n",
              " 'feat_frame color_cat',\n",
              " 'feat_product name_cat',\n",
              " 'feat_high visibility (ansi compliant)_cat',\n",
              " 'feat_height_cat',\n",
              " 'feat_release_cat',\n",
              " 'feat_cm_cat',\n",
              " 'feat_ground_cat',\n",
              " 'feat_use_cat',\n",
              " 'feat_face shape_cat',\n",
              " 'feat_frame type_cat',\n",
              " 'feat_attachment_cat',\n",
              " 'feat_band length_cat',\n",
              " 'feat_date first available_cat',\n",
              " 'feat_watch style_cat',\n",
              " 'feat_contained battery type_cat',\n",
              " 'feat_model_cat',\n",
              " 'feat_applicable_cat',\n",
              " 'feat_full product manual_cat',\n",
              " 'feat_crown_cat',\n",
              " 'feat_fabric_cat',\n",
              " 'feat_rx-able_cat',\n",
              " 'feat_design_cat',\n",
              " 'feat_enhanced visibility (reflective)_cat',\n",
              " 'feat_case finish_cat',\n",
              " 'feat_case type:_cat',\n",
              " 'feat_antiscratch lens coating_cat',\n",
              " 'feat_overall material_cat',\n",
              " 'feat_diamond clarity_cat',\n",
              " 'feat_stock no._cat',\n",
              " 'feat_country of manufacturer_cat',\n",
              " 'feat_age range_cat',\n",
              " 'feat_stability_cat',\n",
              " 'feat_heat zones_cat',\n",
              " 'feat_part number_cat',\n",
              " 'feat_colour code_cat',\n",
              " 'feat_material detail-1_cat',\n",
              " 'feat_adidas_cat',\n",
              " 'feat_origin of components_cat',\n",
              " 'feat_smart watch_cat',\n",
              " 'feat_article_cat',\n",
              " 'feat_color/finish family_cat',\n",
              " 'feat_metal color_cat',\n",
              " 'feat_item width_cat',\n",
              " 'feat_lens material:_cat',\n",
              " 'feat_auto shut-off_cat',\n",
              " 'feat_batteries required_cat',\n",
              " 'feat_euro size_cat',\n",
              " 'feat_features & fastening_cat',\n",
              " 'feat_dial color_cat',\n",
              " 'feat_temple length_cat',\n",
              " 'feat_shirt size_cat',\n",
              " 'feat_insulation_cat',\n",
              " 'feat_toe type_cat',\n",
              " 'feat_digital camera_cat',\n",
              " 'feat_heel height_cat',\n",
              " 'feat_handbag style_cat',\n",
              " 'feat_colour_cat',\n",
              " 'feat_lens color_cat',\n",
              " 'feat_band material_cat',\n",
              " 'feat_metal stamp_cat',\n",
              " 'feat_multi pack indicator_cat',\n",
              " 'feat_isbn_cat',\n",
              " 'feat_sports league_cat',\n",
              " 'feat_country/region of manufacture_cat',\n",
              " 'feat_label_cat',\n",
              " 'feat_fabric care_cat',\n",
              " 'feat_number of compartments_cat',\n",
              " 'feat_adjustable_cat',\n",
              " 'feat_count_cat',\n",
              " 'feat_neckline_cat',\n",
              " 'feat_chain/necklace length (in.)_cat',\n",
              " 'feat_fabrication_cat',\n",
              " 'feat_is portable_cat',\n",
              " 'feat_width_cat',\n",
              " 'feat_variant group id_cat',\n",
              " 'feat_casual & dress shoe style_cat',\n",
              " 'feat_carats_cat',\n",
              " 'feat_assembled product dimensions (l x w x h)_cat',\n",
              " 'feat_sku#_cat',\n",
              " 'feat_band length (in.)_cat',\n",
              " 'feat_date first available at amazon.co.uk_cat',\n",
              " 'feat_product id_cat',\n",
              " 'feat_resolution_cat',\n",
              " 'feat_clothing size_cat',\n",
              " 'feat_fabric material_cat',\n",
              " 'feat_bezel_cat',\n",
              " 'feat_fastener_cat',\n",
              " 'feat_movement_cat',\n",
              " 'feat_hood_cat',\n",
              " 'feat_color family_cat',\n",
              " 'feat_fabric content_cat',\n",
              " 'feat_characteristics_cat',\n",
              " 'feat_battery type_cat',\n",
              " 'feat_mpn_cat',\n",
              " 'feat_country////region of manufacture_cat',\n",
              " 'feat_age segment_cat',\n",
              " 'feat_international shipping?_cat',\n",
              " 'feat_vendor description_cat',\n",
              " 'feat_clothing category_cat',\n",
              " 'feat_clothing size type_cat',\n",
              " 'feat_uv protection_cat',\n",
              " 'feat_material composition_cat',\n",
              " 'feat_shipping weight_cat',\n",
              " 'feat_age_cat',\n",
              " 'feat_seller inventory number_cat',\n",
              " 'feat_manufacturer_part_number_cat',\n",
              " 'feat_atpv arc rating_cat',\n",
              " 'feat_date_cat',\n",
              " 'feat_genre_cat',\n",
              " 'feat_front style_cat',\n",
              " 'feat_shape_cat',\n",
              " 'feat_primary color_cat',\n",
              " 'feat_place of origin_cat',\n",
              " 'feat_band width_cat',\n",
              " 'feat_mpn#_cat',\n",
              " 'feat_resolution megapixels_cat',\n",
              " 'feat_leather :_cat',\n",
              " 'feat_subdial_cat',\n",
              " 'feat_quantity in set_cat',\n",
              " 'feat_fishing_cat',\n",
              " 'feat_metal type_cat',\n",
              " 'feat_chronograph_cat',\n",
              " 'feat_item color_cat',\n",
              " 'feat_water-resistant_cat',\n",
              " 'feat_product in inches (l x w x h)_cat',\n",
              " 'feat_product dimensions_cat',\n",
              " 'feat_technician_cat',\n",
              " 'feat_bracelet style_cat',\n",
              " 'feat_stone type_cat',\n",
              " 'feat_материал_cat',\n",
              " 'feat_sock style_cat',\n",
              " 'feat_reinforced pockets_cat',\n",
              " 'feat_bridge width_cat',\n",
              " 'feat_style number_cat',\n",
              " 'feat_hardsided or softsided_cat',\n",
              " 'feat_dimensions_cat',\n",
              " 'feat_model number_cat',\n",
              " 'feat_nickel free_cat',\n",
              " 'feat_fabric care instructions_cat',\n",
              " 'feat_batteries required?_cat',\n",
              " 'feat_includes_cat',\n",
              " 'feat_case back_cat',\n",
              " 'feat_location - country_cat',\n",
              " 'feat_main color_cat',\n",
              " 'feat_number of items_cat',\n",
              " 'feat_is wheeled_cat',\n",
              " 'feat_boot height_cat',\n",
              " 'feat_number of heat settings_cat',\n",
              " 'feat_bridge_cat',\n",
              " 'feat_fit to_cat',\n",
              " 'feat_footwear type_cat',\n",
              " 'feat_manufacturer number_cat',\n",
              " 'feat_foot arch_cat',\n",
              " 'feat_shipping to usa_cat',\n",
              " 'feat_closure_cat',\n",
              " 'feat_elastic banded waist_cat',\n",
              " 'feat_gold karat_cat',\n",
              " 'feat_polarised_cat',\n",
              " 'feat_features_cat',\n",
              " 'feat_polarized_cat',\n",
              " 'feat_case type_cat',\n",
              " 'feat_has mercury_cat',\n",
              " 'feat_looks best on these face shapes:_cat',\n",
              " 'feat_item weight unit of measure_cat',\n",
              " 'feat_safety apparel product type_cat',\n",
              " 'feat_leg_cat',\n",
              " 'feat_pant style_cat',\n",
              " 'feat_military style_cat',\n",
              " 'feat_character_cat',\n",
              " 'feat_pocket_cat',\n",
              " 'feat_batteries included?_cat',\n",
              " 'feat_lens color family_cat',\n",
              " 'feat_is dark sky-compliant_cat',\n",
              " 'feat_is weather-resistant_cat',\n",
              " 'feat_ean_cat',\n",
              " 'feat_era_cat',\n",
              " 'feat_accessory type_cat']"
            ]
          },
          "metadata": {
            "tags": []
          },
          "execution_count": 82
        }
      ]
    },
    {
      "cell_type": "code",
      "metadata": {
        "id": "9mMMpufuekEd",
        "colab_type": "code",
        "colab": {}
      },
      "source": [
        "feats = ['brand_cat', 'feat_brand_cat', 'feat_gender_cat', 'feat_material_cat', 'feat_sport_cat', 'feat_style_cat', 'feat_shape_cat', 'feat_metal type_cat']\n",
        "\n",
        "model = RandomForestRegressor(max_depth=5, n_estimators=100)\n",
        "result = run_model(feats, model)"
      ],
      "execution_count": 0,
      "outputs": []
    },
    {
      "cell_type": "code",
      "metadata": {
        "id": "5rwhDU3eemDM",
        "colab_type": "code",
        "colab": {
          "base_uri": "https://localhost:8080/",
          "height": 192
        },
        "outputId": "b9453a17-c9ad-4f3e-9b01-a47c0f3f2b98"
      },
      "source": [
        "X = df[feats].values\n",
        "y = df['prices_amountmin'].values\n",
        "\n",
        "m = RandomForestRegressor(max_depth=5, n_estimators=100, random_state=0)\n",
        "m.fit(X,y)\n",
        "print(result)\n",
        "perm = PermutationImportance(m, random_state=1).fit(X,y);\n",
        "eli5.show_weights(perm, feature_names = feats)"
      ],
      "execution_count": 85,
      "outputs": [
        {
          "output_type": "stream",
          "text": [
            "(-57.247595289280525, 4.306454319405533)\n"
          ],
          "name": "stdout"
        },
        {
          "output_type": "execute_result",
          "data": {
            "text/html": [
              "\n",
              "    <style>\n",
              "    table.eli5-weights tr:hover {\n",
              "        filter: brightness(85%);\n",
              "    }\n",
              "</style>\n",
              "\n",
              "\n",
              "\n",
              "    \n",
              "\n",
              "    \n",
              "\n",
              "    \n",
              "\n",
              "    \n",
              "\n",
              "    \n",
              "\n",
              "    \n",
              "\n",
              "\n",
              "    \n",
              "\n",
              "    \n",
              "\n",
              "    \n",
              "\n",
              "    \n",
              "\n",
              "    \n",
              "\n",
              "    \n",
              "\n",
              "\n",
              "    \n",
              "\n",
              "    \n",
              "\n",
              "    \n",
              "\n",
              "    \n",
              "\n",
              "    \n",
              "        <table class=\"eli5-weights eli5-feature-importances\" style=\"border-collapse: collapse; border: none; margin-top: 0em; table-layout: auto;\">\n",
              "    <thead>\n",
              "    <tr style=\"border: none;\">\n",
              "        <th style=\"padding: 0 1em 0 0.5em; text-align: right; border: none;\">Weight</th>\n",
              "        <th style=\"padding: 0 0.5em 0 0.5em; text-align: left; border: none;\">Feature</th>\n",
              "    </tr>\n",
              "    </thead>\n",
              "    <tbody>\n",
              "    \n",
              "        <tr style=\"background-color: hsl(120, 100.00%, 80.00%); border: none;\">\n",
              "            <td style=\"padding: 0 1em 0 0.5em; text-align: right; border: none;\">\n",
              "                0.2576\n",
              "                \n",
              "                    &plusmn; 0.0075\n",
              "                \n",
              "            </td>\n",
              "            <td style=\"padding: 0 0.5em 0 0.5em; text-align: left; border: none;\">\n",
              "                brand_cat\n",
              "            </td>\n",
              "        </tr>\n",
              "    \n",
              "        <tr style=\"background-color: hsl(120, 100.00%, 89.35%); border: none;\">\n",
              "            <td style=\"padding: 0 1em 0 0.5em; text-align: right; border: none;\">\n",
              "                0.1047\n",
              "                \n",
              "                    &plusmn; 0.0162\n",
              "                \n",
              "            </td>\n",
              "            <td style=\"padding: 0 0.5em 0 0.5em; text-align: left; border: none;\">\n",
              "                feat_material_cat\n",
              "            </td>\n",
              "        </tr>\n",
              "    \n",
              "        <tr style=\"background-color: hsl(120, 100.00%, 96.10%); border: none;\">\n",
              "            <td style=\"padding: 0 1em 0 0.5em; text-align: right; border: none;\">\n",
              "                0.0249\n",
              "                \n",
              "                    &plusmn; 0.0040\n",
              "                \n",
              "            </td>\n",
              "            <td style=\"padding: 0 0.5em 0 0.5em; text-align: left; border: none;\">\n",
              "                feat_gender_cat\n",
              "            </td>\n",
              "        </tr>\n",
              "    \n",
              "        <tr style=\"background-color: hsl(120, 100.00%, 96.92%); border: none;\">\n",
              "            <td style=\"padding: 0 1em 0 0.5em; text-align: right; border: none;\">\n",
              "                0.0178\n",
              "                \n",
              "                    &plusmn; 0.0007\n",
              "                \n",
              "            </td>\n",
              "            <td style=\"padding: 0 0.5em 0 0.5em; text-align: left; border: none;\">\n",
              "                feat_brand_cat\n",
              "            </td>\n",
              "        </tr>\n",
              "    \n",
              "        <tr style=\"background-color: hsl(120, 100.00%, 97.55%); border: none;\">\n",
              "            <td style=\"padding: 0 1em 0 0.5em; text-align: right; border: none;\">\n",
              "                0.0128\n",
              "                \n",
              "                    &plusmn; 0.0004\n",
              "                \n",
              "            </td>\n",
              "            <td style=\"padding: 0 0.5em 0 0.5em; text-align: left; border: none;\">\n",
              "                feat_shape_cat\n",
              "            </td>\n",
              "        </tr>\n",
              "    \n",
              "        <tr style=\"background-color: hsl(120, 100.00%, 98.20%); border: none;\">\n",
              "            <td style=\"padding: 0 1em 0 0.5em; text-align: right; border: none;\">\n",
              "                0.0083\n",
              "                \n",
              "                    &plusmn; 0.0014\n",
              "                \n",
              "            </td>\n",
              "            <td style=\"padding: 0 0.5em 0 0.5em; text-align: left; border: none;\">\n",
              "                feat_metal type_cat\n",
              "            </td>\n",
              "        </tr>\n",
              "    \n",
              "        <tr style=\"background-color: hsl(120, 100.00%, 99.03%); border: none;\">\n",
              "            <td style=\"padding: 0 1em 0 0.5em; text-align: right; border: none;\">\n",
              "                0.0034\n",
              "                \n",
              "                    &plusmn; 0.0008\n",
              "                \n",
              "            </td>\n",
              "            <td style=\"padding: 0 0.5em 0 0.5em; text-align: left; border: none;\">\n",
              "                feat_style_cat\n",
              "            </td>\n",
              "        </tr>\n",
              "    \n",
              "        <tr style=\"background-color: hsl(120, 100.00%, 99.93%); border: none;\">\n",
              "            <td style=\"padding: 0 1em 0 0.5em; text-align: right; border: none;\">\n",
              "                0.0001\n",
              "                \n",
              "                    &plusmn; 0.0000\n",
              "                \n",
              "            </td>\n",
              "            <td style=\"padding: 0 0.5em 0 0.5em; text-align: left; border: none;\">\n",
              "                feat_sport_cat\n",
              "            </td>\n",
              "        </tr>\n",
              "    \n",
              "    \n",
              "    </tbody>\n",
              "</table>\n",
              "    \n",
              "\n",
              "    \n",
              "\n",
              "\n",
              "    \n",
              "\n",
              "    \n",
              "\n",
              "    \n",
              "\n",
              "    \n",
              "\n",
              "    \n",
              "\n",
              "    \n",
              "\n",
              "\n",
              "\n"
            ],
            "text/plain": [
              "<IPython.core.display.HTML object>"
            ]
          },
          "metadata": {
            "tags": []
          },
          "execution_count": 85
        }
      ]
    },
    {
      "cell_type": "code",
      "metadata": {
        "id": "SgB_LQuYepAv",
        "colab_type": "code",
        "colab": {
          "base_uri": "https://localhost:8080/",
          "height": 240
        },
        "outputId": "7c6de5d4-1ff4-452e-dbf7-afde03e5ce0e"
      },
      "source": [
        "df['brand'].value_counts(normalize = True)"
      ],
      "execution_count": 86,
      "outputs": [
        {
          "output_type": "execute_result",
          "data": {
            "text/plain": [
              "nike                        0.097210\n",
              "puma                        0.033315\n",
              "ralph lauren                0.028775\n",
              "vans                        0.021116\n",
              "new balance                 0.020295\n",
              "                              ...   \n",
              "solo, solo                  0.000055\n",
              "klogs                       0.000055\n",
              "marc ny                     0.000055\n",
              "j. fold                     0.000055\n",
              "slipperooz by deer stags    0.000055\n",
              "Name: brand, Length: 1732, dtype: float64"
            ]
          },
          "metadata": {
            "tags": []
          },
          "execution_count": 86
        }
      ]
    },
    {
      "cell_type": "code",
      "metadata": {
        "id": "-NqvRtA3et6s",
        "colab_type": "code",
        "colab": {
          "base_uri": "https://localhost:8080/",
          "height": 110
        },
        "outputId": "8af68c6e-51fe-435b-e33c-6f5f11daa488"
      },
      "source": [
        "df[df['brand'] == 'nike'].features_parsed.head().values"
      ],
      "execution_count": 87,
      "outputs": [
        {
          "output_type": "execute_result",
          "data": {
            "text/plain": [
              "array([{'sport': 'soccer', 'main color': 'orange', 'type': 'cleats', 'condition': 'new without box'},\n",
              "       {'sport': 'soccer', 'main color': 'orange', 'type': 'cleats', 'condition': 'new without box'},\n",
              "       {'sport': 'soccer', 'main color': 'orange', 'type': 'cleats', 'condition': 'new without box'},\n",
              "       {'style': 'athletic sneakers', 'condition': 'new with box'}, {}],\n",
              "      dtype=object)"
            ]
          },
          "metadata": {
            "tags": []
          },
          "execution_count": 87
        }
      ]
    },
    {
      "cell_type": "code",
      "metadata": {
        "id": "IC_XJ9dLexQR",
        "colab_type": "code",
        "colab": {
          "base_uri": "https://localhost:8080/",
          "height": 315
        },
        "outputId": "ec11b780-2c28-49e2-9512-cf208491608e"
      },
      "source": [
        "df['feat_age group'].value_counts()"
      ],
      "execution_count": 88,
      "outputs": [
        {
          "output_type": "execute_result",
          "data": {
            "text/plain": [
              "adult               4563\n",
              "men                  350\n",
              "child                 77\n",
              "men's                 33\n",
              "unisex                 6\n",
              "toddler                4\n",
              "mens                   4\n",
              "infant                 4\n",
              "boys'                  3\n",
              "women                  2\n",
              "men||women             2\n",
              "women ,�� unisex       2\n",
              "youth                  2\n",
              "adult ,�� teen         1\n",
              "12 up                  1\n",
              "Name: feat_age group, dtype: int64"
            ]
          },
          "metadata": {
            "tags": []
          },
          "execution_count": 88
        }
      ]
    },
    {
      "cell_type": "code",
      "metadata": {
        "id": "IoCiCK_be11R",
        "colab_type": "code",
        "colab": {}
      },
      "source": [
        ""
      ],
      "execution_count": 0,
      "outputs": []
    }
  ]
}